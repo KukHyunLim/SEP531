{
  "nbformat": 4,
  "nbformat_minor": 0,
  "metadata": {
    "colab": {
      "name": "main.ipynb",
      "provenance": []
    },
    "kernelspec": {
      "name": "python3",
      "display_name": "Python 3"
    },
    "accelerator": "GPU"
  },
  "cells": [
    {
      "cell_type": "code",
      "metadata": {
        "id": "-YusC7zL-Lb6"
      },
      "source": [
        "from google.colab import drive\n",
        "\n",
        "drive.mount('/content/gdrive')"
      ],
      "execution_count": null,
      "outputs": []
    },
    {
      "cell_type": "code",
      "metadata": {
        "id": "mpPHYoDB_t54"
      },
      "source": [
        "import os\n",
        "\n",
        "os.sys.path.append('/content/gdrive/path/to/your_dir')\n",
        "os.sys.path"
      ],
      "execution_count": 2,
      "outputs": []
    },
    {
      "cell_type": "code",
      "metadata": {
        "id": "PauROwzHAAPP"
      },
      "source": [
        "# install huggingface transformers\n",
        "!pip3 install transformers"
      ],
      "execution_count": null,
      "outputs": []
    },
    {
      "cell_type": "code",
      "metadata": {
        "id": "83X6QxGh_6VW"
      },
      "source": [
        "import argparse\n",
        "\n",
        "from train import Trainer\n",
        "from utils import init_logger, load_tokenizer, set_seed, MODEL_CLASSES, MODEL_PATH_MAP\n",
        "from create_finetuning_dataset import load_and_cache_examples"
      ],
      "execution_count": 5,
      "outputs": []
    },
    {
      "cell_type": "code",
      "metadata": {
        "id": "q-ijSvm6AHV_"
      },
      "source": [
        "args = dict()\n",
        "\n",
        "args['task'] = 'nsmc'\n",
        "args['model_dir'] = '/content/gdrive/MyDrive/[SEP531] 정보검색/실습/HW4/model'\n",
        "args['data_dir'] = '/content/gdrive/MyDrive/[SEP531] 정보검색/실습/HW4/data'\n",
        "args['train_file'] = 'ratings_train.txt'\n",
        "args['test_file'] = 'ratings_test.txt'\n",
        "args['model_type'] = 'kobert'\n",
        "\n",
        "args['seed'] = 12345\n",
        "args['train_batch_size'] = 32\n",
        "args['eval_batch_size'] = 64\n",
        "args['max_seq_len'] = 50\n",
        "args['learning_rate'] = 5e-5\n",
        "args['num_train_epochs'] = 5.0\n",
        "args['weight_decay'] = 0.0\n",
        "args['gradient_accumulation_steps'] = 1\n",
        "args['adam_epsilon'] = 1e-8\n",
        "args['max_grad_norm'] = 1.0\n",
        "args['max_steps'] = -1\n",
        "args['warmup_steps'] = 0\n",
        "\n",
        "args['logging_steps'] = 2000\n",
        "args['save_steps'] = 2000\n",
        "\n",
        "args['do_train'] = True\n",
        "args['do_eval'] = True\n",
        "args['no_cuda'] = False\n",
        "\n",
        "args['model_name_or_path'] = MODEL_PATH_MAP[args['model_type']]"
      ],
      "execution_count": 8,
      "outputs": []
    },
    {
      "cell_type": "code",
      "metadata": {
        "id": "xgcFY6w9BXwG"
      },
      "source": [
        "init_logger()\n",
        "set_seed(args)\n",
        "\n",
        "tokenizer = load_tokenizer(args)\n",
        "train_dataset = load_and_cache_examples(args, tokenizer, mode=\"train\")\n",
        "dev_dataset = None\n",
        "test_dataset = load_and_cache_examples(args, tokenizer, mode=\"test\")\n",
        "trainer = Trainer(args, train_dataset, dev_dataset, test_dataset)\n",
        "\n",
        "if args['do_train']:\n",
        "    trainer.train()"
      ],
      "execution_count": null,
      "outputs": []
    },
    {
      "cell_type": "code",
      "metadata": {
        "id": "yXBUHt3oBpi7"
      },
      "source": [
        "if args['do_eval']:\n",
        "  trainer.load_model()\n",
        "  trainer.evaluate(\"test\")"
      ],
      "execution_count": null,
      "outputs": []
    },
    {
      "cell_type": "code",
      "metadata": {
        "id": "xHM8VpvQwK1n"
      },
      "source": [
        ""
      ],
      "execution_count": null,
      "outputs": []
    }
  ]
}